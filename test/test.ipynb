{
 "cells": [
  {
   "cell_type": "code",
   "execution_count": 20,
   "metadata": {},
   "outputs": [],
   "source": [
    "import os\n",
    "from pprint import pprint\n",
    "from wechatarticles import PublicAccountsWeb\n",
    "import pandas as pd\n",
    "import json"
   ]
  },
  {
   "cell_type": "code",
   "execution_count": 21,
   "metadata": {},
   "outputs": [],
   "source": [
    "cookie = \"appmsglist_action_2392642500=card; ua_id=wczETTqr2AuVGusWAAAAANP96f11qPW9vbQMWiYYDZA=; wxuin=65190337525378; rand_info=CAESIM1F8LtICOoryKV5c08seXd4UBPPjhfYo92noa2C6Sjr; slave_bizuin=2392642500; data_bizuin=2393318235; bizuin=2392642500; data_ticket=l3bTqQVV1T3y5xbhZngqrhUwvfVZLeEq+7t+ELXnQ6jga588NXJQLAg8qo4o9JK8; slave_sid=bzhnWWR6TGxDaE5lOW1XNDNLZXRuNFY4UURFSk1VM0RUQnYwSmpwWDUyMHFXZDV0V1UwSmVZazlnTnphQWhxdFRwemFXU0RIR3d3anBCWU9RRlBUWjJpbENfTmpzSUZkZEdBaGgzYzhLZVdNcWY3S2hDdTFJOGw4Z215SGVMaTljTm5yMmNSdnpzMGljN0U3; slave_user=gh_5d9b00ad18f4; xid=8202c0967286333c2fbe305c0d56c9ad; mm_lang=zh_CN; _clck=2392642500|1|f5k|0\"\n",
    "token = \"1393088205\"\n",
    "nickname = \"养花大全\"\n",
    "biz=\"MzA5NzE0MTcyMQ==\""
   ]
  },
  {
   "cell_type": "code",
   "execution_count": 22,
   "metadata": {},
   "outputs": [],
   "source": [
    "paw = PublicAccountsWeb(cookie=cookie, token=token)\n",
    "    # articles_sum = paw.articles_nums(nickname)\n",
    "article_data = paw.get_urls(nickname,biz, begin=\"0\", count=\"5\")"
   ]
  },
  {
   "cell_type": "code",
   "execution_count": 19,
   "metadata": {},
   "outputs": [
    {
     "data": {
      "text/plain": [
       "dict"
      ]
     },
     "execution_count": 19,
     "metadata": {},
     "output_type": "execute_result"
    }
   ],
   "source": [
    "type(article_data)\n",
    "type(article_data[0])"
   ]
  },
  {
   "cell_type": "code",
   "execution_count": 30,
   "metadata": {},
   "outputs": [],
   "source": [
    "df= pd.DataFrame(data=article_data,columns=['appmsgid','aid','title','link','create_time'])\n",
    "\n"
   ]
  },
  {
   "cell_type": "code",
   "execution_count": 38,
   "metadata": {},
   "outputs": [
    {
     "name": "stdout",
     "output_type": "stream",
     "text": [
      "'http://mp.weixin.qq.com/s?__biz=MzA5NzE0MTcyMQ==&mid=2651089109&idx=1&sn=b18e259fe6f63a33db81a192e8008115&chksm=8b559e63bc221775e9272a09fd4481c84d6f325f128f0c96d619eed1f94bbfc1645c5598554f#rd'\n"
     ]
    }
   ],
   "source": [
    "pprint(df['link'][0])"
   ]
  }
 ],
 "metadata": {
  "kernelspec": {
   "display_name": "Python 3.9.7 64-bit ('Anaconda3')",
   "language": "python",
   "name": "python3"
  },
  "language_info": {
   "codemirror_mode": {
    "name": "ipython",
    "version": 3
   },
   "file_extension": ".py",
   "mimetype": "text/x-python",
   "name": "python",
   "nbconvert_exporter": "python",
   "pygments_lexer": "ipython3",
   "version": "3.9.7"
  },
  "orig_nbformat": 4,
  "vscode": {
   "interpreter": {
    "hash": "e42634819b8c191a5d07eaf23810ff32516dd8d3875f28ec3e488928fbd3c187"
   }
  }
 },
 "nbformat": 4,
 "nbformat_minor": 2
}
